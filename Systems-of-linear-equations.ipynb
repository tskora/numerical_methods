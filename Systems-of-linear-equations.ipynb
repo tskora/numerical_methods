{
 "cells": [
  {
   "cell_type": "markdown",
   "metadata": {},
   "source": [
    "# SYSTEMS OF LINEAR EQUATIONS"
   ]
  },
  {
   "cell_type": "markdown",
   "metadata": {},
   "source": [
    "## Gauss elimination method"
   ]
  },
  {
   "cell_type": "code",
   "execution_count": 85,
   "metadata": {},
   "outputs": [],
   "source": [
    "import numpy as np"
   ]
  },
  {
   "cell_type": "markdown",
   "metadata": {},
   "source": [
    "### Example system of equations"
   ]
  },
  {
   "cell_type": "markdown",
   "metadata": {},
   "source": [
    "$$\\begin{bmatrix}\n",
    "    2 & 7 & -1 & 3 & 1 \\\\\n",
    "    2 & 3 & 4 & 1 & 7 \\\\\n",
    "    6 & 2 & -3 & 2 & -1 \\\\\n",
    "    2 & 1 & 2 & -1 & 2 \\\\\n",
    "    3 & 4 & 1 & -2 & 1\n",
    "\\end{bmatrix}\n",
    "\\begin{bmatrix}\n",
    "    x_1 \\\\\n",
    "    x_2 \\\\\n",
    "    x_3 \\\\\n",
    "    x_4 \\\\\n",
    "    x_5\n",
    "\\end{bmatrix}\n",
    "=\n",
    "\\begin{bmatrix}\n",
    "    5 \\\\\n",
    "    7 \\\\\n",
    "    2 \\\\\n",
    "    3 \\\\\n",
    "    4\n",
    "\\end{bmatrix}$$"
   ]
  },
  {
   "cell_type": "code",
   "execution_count": 86,
   "metadata": {},
   "outputs": [],
   "source": [
    "A = np.array([[2, 7, -1, 3, 1],\n",
    "             [2, 3, 4, 1, 7],\n",
    "             [6, 2, -3, 2, -1],\n",
    "             [2, 1, 2, -1, 2],\n",
    "             [3, 4, 1, -2, 1]], float)\n",
    "\n",
    "b = np.array([5, 7, 2, 3, 4])\n",
    "\n",
    "n = len(b)\n",
    "\n",
    "x = np.zeros(n, float)"
   ]
  },
  {
   "cell_type": "code",
   "execution_count": 87,
   "metadata": {},
   "outputs": [
    {
     "data": {
      "text/plain": [
       "(array([[ 2.,  7., -1.,  3.,  1.],\n",
       "        [ 2.,  3.,  4.,  1.,  7.],\n",
       "        [ 6.,  2., -3.,  2., -1.],\n",
       "        [ 2.,  1.,  2., -1.,  2.],\n",
       "        [ 3.,  4.,  1., -2.,  1.]]),\n",
       " array([5, 7, 2, 3, 4]),\n",
       " array([0., 0., 0., 0., 0.]))"
      ]
     },
     "execution_count": 87,
     "metadata": {},
     "output_type": "execute_result"
    }
   ],
   "source": [
    "A, b, x"
   ]
  },
  {
   "cell_type": "markdown",
   "metadata": {},
   "source": [
    "### Elimination"
   ]
  },
  {
   "cell_type": "code",
   "execution_count": 88,
   "metadata": {},
   "outputs": [],
   "source": [
    "for k in range(n-1):\n",
    "    for i in range(k+1,n):\n",
    "        multiplier = A[i,k]/A[k,k]\n",
    "        b[i] -= multiplier*b[k] \n",
    "        for j in range(k,n):\n",
    "            A[i,j] -= multiplier*A[k,j]"
   ]
  },
  {
   "cell_type": "code",
   "execution_count": 89,
   "metadata": {},
   "outputs": [
    {
     "data": {
      "text/plain": [
       "(array([[  2.        ,   7.        ,  -1.        ,   3.        ,\n",
       "           1.        ],\n",
       "        [  0.        ,  -4.        ,   5.        ,  -2.        ,\n",
       "           6.        ],\n",
       "        [  0.        ,   0.        , -23.75      ,   2.5       ,\n",
       "         -32.5       ],\n",
       "        [  0.        ,   0.        ,   0.        ,  -1.47368421,\n",
       "          -1.84210526],\n",
       "        [  0.        ,   0.        ,   0.        ,   0.        ,\n",
       "           2.25      ]]), array([  5,   2, -22,   0,   0]))"
      ]
     },
     "execution_count": 89,
     "metadata": {},
     "output_type": "execute_result"
    }
   ],
   "source": [
    "A, b"
   ]
  },
  {
   "cell_type": "markdown",
   "metadata": {},
   "source": [
    "### Back-substitution"
   ]
  },
  {
   "cell_type": "code",
   "execution_count": 90,
   "metadata": {},
   "outputs": [
    {
     "data": {
      "text/plain": [
       "0.0"
      ]
     },
     "execution_count": 90,
     "metadata": {},
     "output_type": "execute_result"
    }
   ],
   "source": [
    "xn = b[n-1]/A[n-1,n-1]\n",
    "xn"
   ]
  },
  {
   "cell_type": "code",
   "execution_count": null,
   "metadata": {},
   "outputs": [],
   "source": []
  }
 ],
 "metadata": {
  "kernelspec": {
   "display_name": "Python 3",
   "language": "python",
   "name": "python3"
  },
  "language_info": {
   "codemirror_mode": {
    "name": "ipython",
    "version": 3
   },
   "file_extension": ".py",
   "mimetype": "text/x-python",
   "name": "python",
   "nbconvert_exporter": "python",
   "pygments_lexer": "ipython3",
   "version": "3.6.5"
  }
 },
 "nbformat": 4,
 "nbformat_minor": 2
}
