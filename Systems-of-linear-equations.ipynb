{
 "cells": [
  {
   "cell_type": "markdown",
   "metadata": {},
   "source": [
    "# SYSTEMS OF LINEAR EQUATIONS"
   ]
  },
  {
   "cell_type": "markdown",
   "metadata": {},
   "source": [
    "## Gauss elimination method"
   ]
  },
  {
   "cell_type": "code",
   "execution_count": 365,
   "metadata": {},
   "outputs": [],
   "source": [
    "import numpy as np"
   ]
  },
  {
   "cell_type": "markdown",
   "metadata": {},
   "source": [
    "### Example systems of equations"
   ]
  },
  {
   "cell_type": "markdown",
   "metadata": {},
   "source": [
    "$$\\begin{bmatrix}\n",
    "    2 & 7 & -1 & 3 & 1 \\\\\n",
    "    2 & 3 & 4 & 1 & 7 \\\\\n",
    "    6 & 2 & -3 & 2 & -1 \\\\\n",
    "    2 & 1 & 2 & -1 & 2 \\\\\n",
    "    3 & 4 & 1 & -2 & 1\n",
    "\\end{bmatrix}\n",
    "\\begin{bmatrix}\n",
    "    x_1 \\\\\n",
    "    x_2 \\\\\n",
    "    x_3 \\\\\n",
    "    x_4 \\\\\n",
    "    x_5\n",
    "\\end{bmatrix}\n",
    "=\n",
    "\\begin{bmatrix}\n",
    "    5 \\\\\n",
    "    7 \\\\\n",
    "    2 \\\\\n",
    "    3 \\\\\n",
    "    4\n",
    "\\end{bmatrix}$$"
   ]
  },
  {
   "cell_type": "markdown",
   "metadata": {},
   "source": [
    "#### simple example"
   ]
  },
  {
   "cell_type": "markdown",
   "metadata": {},
   "source": [
    "$$\\begin{bmatrix}\n",
    "    0 & 7 & -1 & 3 & 1 \\\\\n",
    "    2 & 3 & 4 & 1 & 7 \\\\\n",
    "    6 & 2 & 0 & 2 & -1 \\\\\n",
    "    2 & 1 & 2 & 0 & 2 \\\\\n",
    "    3 & 4 & 1 & -2 & 1\n",
    "\\end{bmatrix}\n",
    "\\begin{bmatrix}\n",
    "    y_1 \\\\\n",
    "    y_2 \\\\\n",
    "    y_3 \\\\\n",
    "    y_4 \\\\\n",
    "    y_5\n",
    "\\end{bmatrix}\n",
    "=\n",
    "\\begin{bmatrix}\n",
    "    5 \\\\\n",
    "    7 \\\\\n",
    "    2 \\\\\n",
    "    3 \\\\\n",
    "    4\n",
    "\\end{bmatrix}$$"
   ]
  },
  {
   "cell_type": "markdown",
   "metadata": {},
   "source": [
    "#### simple example with zeros on diagonal"
   ]
  },
  {
   "cell_type": "code",
   "execution_count": 366,
   "metadata": {},
   "outputs": [],
   "source": [
    "A = np.array([[2, 7, -1, 3, 1],\n",
    "             [2, 3, 4, 1, 7],\n",
    "             [6, 2, -3, 2, -1],\n",
    "             [2, 1, 2, -1, 2],\n",
    "             [3, 4, 1, -2, 1]], float)\n",
    "\n",
    "B = np.array([[0, 7, -1, 3, 1],\n",
    "             [2, 3, 4, 1, 7],\n",
    "             [6, 2, 0, 2, -1],\n",
    "             [2, 1, 2, 0, 2],\n",
    "             [3, 4, 1, -2, 1]], float)\n",
    "\n",
    "b = np.array([5, 7, 2, 3, 4], float)\n",
    "\n",
    "c = np.array([5, 7, 2, 3, 4], float)\n",
    "\n",
    "n = len(b)\n",
    "\n",
    "x = np.zeros(n, float)\n",
    "\n",
    "y = np.zeros(n, float)"
   ]
  },
  {
   "cell_type": "code",
   "execution_count": 367,
   "metadata": {},
   "outputs": [
    {
     "data": {
      "text/plain": [
       "(array([[ 2.,  7., -1.,  3.,  1.],\n",
       "        [ 2.,  3.,  4.,  1.,  7.],\n",
       "        [ 6.,  2., -3.,  2., -1.],\n",
       "        [ 2.,  1.,  2., -1.,  2.],\n",
       "        [ 3.,  4.,  1., -2.,  1.]]), array([[ 0.,  7., -1.,  3.,  1.],\n",
       "        [ 2.,  3.,  4.,  1.,  7.],\n",
       "        [ 6.,  2.,  0.,  2., -1.],\n",
       "        [ 2.,  1.,  2.,  0.,  2.],\n",
       "        [ 3.,  4.,  1., -2.,  1.]]), array([5., 7., 2., 3., 4.]), array([5., 7., 2., 3., 4.]), array([0., 0., 0., 0., 0.]), array([0., 0., 0., 0., 0.]))"
      ]
     },
     "execution_count": 367,
     "metadata": {},
     "output_type": "execute_result"
    }
   ],
   "source": [
    "A, B, b, c, x, y"
   ]
  },
  {
   "cell_type": "markdown",
   "metadata": {},
   "source": [
    "### Elimination"
   ]
  },
  {
   "cell_type": "code",
   "execution_count": 368,
   "metadata": {},
   "outputs": [],
   "source": [
    "for k in range(n-1):\n",
    "    for i in range(k+1,n):\n",
    "        multiplier = A[i,k]/A[k,k]\n",
    "        b[i] -= multiplier*b[k] \n",
    "        for j in range(k,n):\n",
    "            A[i,j] -= multiplier*A[k,j]"
   ]
  },
  {
   "cell_type": "code",
   "execution_count": 369,
   "metadata": {
    "scrolled": true
   },
   "outputs": [
    {
     "data": {
      "text/plain": [
       "(array([[  2.        ,   7.        ,  -1.        ,   3.        ,\n",
       "           1.        ],\n",
       "        [  0.        ,  -4.        ,   5.        ,  -2.        ,\n",
       "           6.        ],\n",
       "        [  0.        ,   0.        , -23.75      ,   2.5       ,\n",
       "         -32.5       ],\n",
       "        [  0.        ,   0.        ,   0.        ,  -1.47368421,\n",
       "          -1.84210526],\n",
       "        [  0.        ,   0.        ,   0.        ,   0.        ,\n",
       "           2.25      ]]),\n",
       " array([  5.        ,   2.        , -22.5       ,  -0.73684211,\n",
       "          0.5       ]))"
      ]
     },
     "execution_count": 369,
     "metadata": {},
     "output_type": "execute_result"
    }
   ],
   "source": [
    "A, b"
   ]
  },
  {
   "cell_type": "code",
   "execution_count": 370,
   "metadata": {},
   "outputs": [],
   "source": [
    "for k in range(n-1):\n",
    "    if B[k,k] == 0:\n",
    "        for j in range(n):\n",
    "            B[k,j], B[k+1,j] = B[k+1,j], B[k,j]\n",
    "        c[k], c[k+1] = c[k+1], c[k]\n",
    "    for i in range(k+1,n):\n",
    "        if B[i,k] == 0: continue\n",
    "        multiplier = B[i,k]/B[k,k]\n",
    "        c[i] -= multiplier*c[k] \n",
    "        for j in range(k,n):\n",
    "            B[i,j] -= multiplier*B[k,j]"
   ]
  },
  {
   "cell_type": "code",
   "execution_count": 371,
   "metadata": {},
   "outputs": [
    {
     "data": {
      "text/plain": [
       "(array([[  2.        ,   3.        ,   4.        ,   1.        ,\n",
       "           7.        ],\n",
       "        [  0.        ,   7.        ,  -1.        ,   3.        ,\n",
       "           1.        ],\n",
       "        [  0.        ,   0.        , -13.        ,   2.        ,\n",
       "         -21.        ],\n",
       "        [  0.        ,   0.        ,   0.        ,  -0.49450549,\n",
       "          -1.02197802],\n",
       "        [  0.        ,   0.        ,   0.        ,   0.        ,\n",
       "           7.16666667]]),\n",
       " array([  7.        ,   5.        , -14.        ,  -0.10989011,\n",
       "          0.22222222]))"
      ]
     },
     "execution_count": 371,
     "metadata": {},
     "output_type": "execute_result"
    }
   ],
   "source": [
    "B, c"
   ]
  },
  {
   "cell_type": "markdown",
   "metadata": {},
   "source": [
    "### Back-substitution"
   ]
  },
  {
   "cell_type": "code",
   "execution_count": 372,
   "metadata": {},
   "outputs": [],
   "source": [
    "for i in reversed(range(0,n)):\n",
    "    resolved_sum = 0\n",
    "    for j in range(i+1,n):\n",
    "        resolved_sum += A[i,j]*x[j]\n",
    "    x[i] = (b[i] - resolved_sum)/A[i,i]"
   ]
  },
  {
   "cell_type": "code",
   "execution_count": 373,
   "metadata": {},
   "outputs": [
    {
     "data": {
      "text/plain": [
       "array([0.44444444, 0.55555556, 0.66666667, 0.22222222, 0.22222222])"
      ]
     },
     "execution_count": 373,
     "metadata": {},
     "output_type": "execute_result"
    }
   ],
   "source": [
    "x"
   ]
  },
  {
   "cell_type": "code",
   "execution_count": 374,
   "metadata": {},
   "outputs": [],
   "source": [
    "for i in reversed(range(0,n)):\n",
    "    resolved_sum = 0\n",
    "    for j in range(i+1,n):\n",
    "        resolved_sum += B[i,j]*y[j]\n",
    "    y[i] = (c[i] - resolved_sum)/B[i,i]"
   ]
  },
  {
   "cell_type": "code",
   "execution_count": 375,
   "metadata": {},
   "outputs": [
    {
     "data": {
      "text/plain": [
       "array([0.02170543, 0.79224806, 1.05116279, 0.15813953, 0.03100775])"
      ]
     },
     "execution_count": 375,
     "metadata": {},
     "output_type": "execute_result"
    }
   ],
   "source": [
    "y"
   ]
  },
  {
   "cell_type": "markdown",
   "metadata": {},
   "source": [
    "### Wrapping to a function"
   ]
  },
  {
   "cell_type": "code",
   "execution_count": 376,
   "metadata": {},
   "outputs": [
    {
     "name": "stdout",
     "output_type": "stream",
     "text": [
      "Writing gaussian_elimination.py\n"
     ]
    }
   ],
   "source": [
    "%%writefile gaussian_elimination.py\n",
    "\n",
    "def find_row_with_max_value(matrix, column):\n",
    "    maximal = max(matrix[column:,column])\n",
    "    for i, value in enumerate(matrix[column:,column]):\n",
    "        if value == maximal: return i+column\n",
    "    else: return column\n",
    "\n",
    "def swap_equations(index1, index2, matrix, vector):\n",
    "    if index1 != index2:\n",
    "        n = len(vector)\n",
    "        for j in range(n):\n",
    "            matrix[index1,j], matrix[index2,j] = matrix[index2,j], matrix[index1,j]\n",
    "        vector[index1], vector[index2] = vector[index2], vector[index1]\n",
    "\n",
    "def gauss_eliminate(matrix, vector):\n",
    "    n = len(vector)\n",
    "    for k in range(n-1):\n",
    "        l = find_row_with_max_value(matrix,k)\n",
    "        swap_equations(k,l,matrix,vector)\n",
    "        for i in range(k+1,n):\n",
    "            multiplier = matrix[i,k]/matrix[k,k]\n",
    "            matrix[i,k] = 0.0\n",
    "            vector[i] -= multiplier*vector[k]\n",
    "            for j in range(k+1,n):\n",
    "                matrix[i,j] -= multiplier*matrix[k,j];\n",
    "\n",
    "def back_substitute(matrix, vector, answer):\n",
    "    n = len(vector)\n",
    "    for i in reversed(range(0,n)):\n",
    "        resolved_sum = 0\n",
    "        for j in range(i+1,n):\n",
    "            resolved_sum += matrix[i,j]*answer[j]\n",
    "        answer[i] = (vector[i] - resolved_sum)/matrix[i,i]\n",
    "    return answer\n",
    "\n",
    "def gaussian_elimination_solve(system_matrix, right_hand_sides):\n",
    "    solution = np.zeros(len(right_hand_sides))\n",
    "    gauss_eliminate(system_matrix, right_hand_sides)\n",
    "    return system_matrix,back_substitute(system_matrix, right_hand_sides, solution)"
   ]
  },
  {
   "cell_type": "code",
   "execution_count": 377,
   "metadata": {},
   "outputs": [],
   "source": [
    "A = np.array([[2, 7, -1, 3, 1],\n",
    "             [2, 3, 4, 1, 7],\n",
    "             [6, 2, -3, 2, -1],\n",
    "             [2, 1, 2, -1, 2],\n",
    "             [3, 4, 1, -2, 1]], float)\n",
    "\n",
    "B = np.array([[0, 7, -1, 3, 1],\n",
    "             [2, 3, 4, 1, 7],\n",
    "             [6, 2, 0, 2, -1],\n",
    "             [2, 1, 2, 0, 2],\n",
    "             [3, 4, 1, -2, 1]], float)\n",
    "\n",
    "b = np.array([5, 7, 2, 3, 4], float)\n",
    "\n",
    "c = np.array([5, 7, 2, 3, 4], float)"
   ]
  },
  {
   "cell_type": "code",
   "execution_count": 378,
   "metadata": {},
   "outputs": [
    {
     "data": {
      "text/plain": [
       "(array([[ 6.        ,  2.        , -3.        ,  2.        , -1.        ],\n",
       "        [ 0.        ,  6.33333333,  0.        ,  2.33333333,  1.33333333],\n",
       "        [ 0.        ,  0.        ,  5.        , -0.52631579,  6.84210526],\n",
       "        [ 0.        ,  0.        ,  0.        , -1.47368421, -1.84210526],\n",
       "        [ 0.        ,  0.        ,  0.        ,  0.        ,  2.25      ]]),\n",
       " array([0.44444444, 0.55555556, 0.66666667, 0.22222222, 0.22222222]))"
      ]
     },
     "execution_count": 378,
     "metadata": {},
     "output_type": "execute_result"
    }
   ],
   "source": [
    "gaussian_elimination_solve(A,b)"
   ]
  },
  {
   "cell_type": "code",
   "execution_count": 379,
   "metadata": {
    "scrolled": true
   },
   "outputs": [
    {
     "data": {
      "text/plain": [
       "(array([[ 6.        ,  2.        ,  0.        ,  2.        , -1.        ],\n",
       "        [ 0.        ,  7.        , -1.        ,  3.        ,  1.        ],\n",
       "        [ 0.        ,  0.        ,  4.33333333, -0.66666667,  7.        ],\n",
       "        [ 0.        ,  0.        ,  0.        , -0.49450549, -1.02197802],\n",
       "        [ 0.        ,  0.        ,  0.        ,  0.        ,  7.16666667]]),\n",
       " array([0.02170543, 0.79224806, 1.05116279, 0.15813953, 0.03100775]))"
      ]
     },
     "execution_count": 379,
     "metadata": {},
     "output_type": "execute_result"
    }
   ],
   "source": [
    "gaussian_elimination_solve(B,c)"
   ]
  }
 ],
 "metadata": {
  "kernelspec": {
   "display_name": "Python 3",
   "language": "python",
   "name": "python3"
  },
  "language_info": {
   "codemirror_mode": {
    "name": "ipython",
    "version": 3
   },
   "file_extension": ".py",
   "mimetype": "text/x-python",
   "name": "python",
   "nbconvert_exporter": "python",
   "pygments_lexer": "ipython3",
   "version": "3.6.5"
  }
 },
 "nbformat": 4,
 "nbformat_minor": 2
}
